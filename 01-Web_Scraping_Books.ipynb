{
 "cells": [
  {
   "cell_type": "code",
   "execution_count": 1,
   "id": "2a434d0a",
   "metadata": {},
   "outputs": [],
   "source": [
    "import pandas as pd\n",
    "import requests as rt \n",
    "from bs4 import BeautifulSoup as sp"
   ]
  },
  {
   "cell_type": "code",
   "execution_count": 78,
   "id": "15d77628",
   "metadata": {
    "scrolled": true
   },
   "outputs": [],
   "source": [
    "lst_names = []\n",
    "lst_prices = []\n",
    "lst_stars = []\n",
    "\n",
    "for n in range(50):\n",
    "    web = rt.get(f\"http://books.toscrape.com/catalogue/page-{n+1}.html\")\n",
    "    soup = sp(web.text)\n",
    "    \n",
    "    find_name = soup.find_all(\"img\", {\"class\":\"thumbnail\"})\n",
    "    find_price = soup.find_all(\"p\", {\"class\":\"price_color\"})\n",
    "    find_star = soup.find_all(\"p\", {\"class\":\"star-rating\"})\n",
    "\n",
    "    \n",
    "    for i in range(20):\n",
    "        name=find_name[i].get(\"alt\")\n",
    "        price=find_price[i].get_text()[2:]\n",
    "        star=find_star[i].attrs['class'][1]\n",
    "        \n",
    "        lst_names.append(name)\n",
    "        lst_prices.append(price)\n",
    "        lst_stars.append(star)"
   ]
  },
  {
   "cell_type": "code",
   "execution_count": 79,
   "id": "a7f6ceab",
   "metadata": {},
   "outputs": [
    {
     "data": {
      "text/plain": [
       "(1000, 1000, 1000)"
      ]
     },
     "execution_count": 79,
     "metadata": {},
     "output_type": "execute_result"
    }
   ],
   "source": [
    "len(lst_names),len(lst_prices),len(lst_stars)"
   ]
  },
  {
   "cell_type": "code",
   "execution_count": 104,
   "id": "08f47794",
   "metadata": {},
   "outputs": [],
   "source": [
    "df2 = pd.DataFrame({'Name':lst_names,\n",
    "                  'Price':lst_prices,\n",
    "                  'Star':lst_stars})"
   ]
  },
  {
   "cell_type": "code",
   "execution_count": 105,
   "id": "bc852442",
   "metadata": {},
   "outputs": [],
   "source": [
    "df2.loc[df2[\"Star\"]==\"One\",\"Star\"] = 1\n",
    "df2.loc[df2[\"Star\"]==\"Two\",\"Star\"] = 2\n",
    "df2.loc[df2[\"Star\"]==\"Three\",\"Star\"] = 3\n",
    "df2.loc[df2[\"Star\"]==\"Four\",\"Star\"] = 4\n",
    "df2.loc[df2[\"Star\"]==\"Five\",\"Star\"] = 5"
   ]
  },
  {
   "cell_type": "code",
   "execution_count": 108,
   "id": "5d267ebd",
   "metadata": {},
   "outputs": [],
   "source": [
    "df2.to_csv('Books.csv',index=False)"
   ]
  },
  {
   "cell_type": "code",
   "execution_count": 6,
   "id": "2a9eff4a",
   "metadata": {},
   "outputs": [
    {
     "data": {
      "text/plain": [
       "('gb', 'gfb', 'dhy')"
      ]
     },
     "execution_count": 6,
     "metadata": {},
     "output_type": "execute_result"
    }
   ],
   "source": [
    "l=[(\"gb\",957,\"358\"),(\"gfb\",54,\"87\"),(\"dhy\",54,\"25\")]\n",
    "list(zip(l[0],l[1],l[2]))[0]"
   ]
  },
  {
   "cell_type": "code",
   "execution_count": null,
   "id": "7152a05f",
   "metadata": {},
   "outputs": [],
   "source": []
  }
 ],
 "metadata": {
  "kernelspec": {
   "display_name": "Python 3",
   "language": "python",
   "name": "python3"
  },
  "language_info": {
   "codemirror_mode": {
    "name": "ipython",
    "version": 3
   },
   "file_extension": ".py",
   "mimetype": "text/x-python",
   "name": "python",
   "nbconvert_exporter": "python",
   "pygments_lexer": "ipython3",
   "version": "3.8.8"
  }
 },
 "nbformat": 4,
 "nbformat_minor": 5
}
